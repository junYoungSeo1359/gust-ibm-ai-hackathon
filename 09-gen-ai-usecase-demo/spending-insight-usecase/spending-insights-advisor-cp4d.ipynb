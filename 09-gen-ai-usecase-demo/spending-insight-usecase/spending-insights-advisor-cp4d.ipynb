{
 "cells": [
  {
   "cell_type": "markdown",
   "metadata": {},
   "source": [
    "## 노트북 내용\n",
    "\n",
    "이 노트북은 watsonx.ai를 사용해서 소비 패턴 데이타를 분석해보는 유즈 케이스를 구현하고 있습니다.\n",
    "이를 잘 이해하기 위해서는 Python 및 SQL에 대한 기본 지식이 필요하며 모든 코드는 Python 3.10 으로 작성되어 있습니다.\n",
    "\n",
    "\n",
    "## 내용\n",
    "\n",
    "이 노트북은 다음과 같은 단계로 구성되어 있습니다.\n",
    "\n",
    "- [환경설정](#setup)\n",
    "- [데이타베이스 설정](#database_setup)\n",
    "- [프롬프트 템플릿 작성](#prompt_template)\n",
    "- [사용자 질의 및 답변 생성](#execute_query)"
   ]
  },
  {
   "cell_type": "markdown",
   "metadata": {},
   "source": [
    "<a id=\"setup\"></a>\n",
    "## 환경 설정\n",
    "\n",
    "이노트북에 있는 샘플 코드를 실행하기 전에 다음 작업을 완료해야 합니다.\n",
    "\n",
    "- 필요한 python package는 conda environment 혹은 python virtual environment에 python 3.10.12 기반의 독립적인 환경을 만든 후 pip install -r requirements_cp4d.txt를 사용해서 설치.\n",
    "- Cloud Pak for Data 관리자에게 이 시스템에 접근할 수 있는 권한 정보를 획득.\n",
    "\n"
   ]
  },
  {
   "cell_type": "code",
   "execution_count": null,
   "metadata": {},
   "outputs": [],
   "source": [
    "!pip install \"langchain\"\n",
    "!pip install \"langchain-community\"\n",
    "!pip install \"langchain-experimental\"\n",
    "!pip install \"ibm-watson-machine-learning==1.0.353\"\n",
    "!pip install \"ibm_watsonx_ai==0.2.3\""
   ]
  },
  {
   "cell_type": "code",
   "execution_count": null,
   "metadata": {},
   "outputs": [],
   "source": [
    "import os\n",
    "import sqlite3\n",
    "import csv\n",
    "from datetime import datetime\n",
    "import pytz\n",
    "from langchain.utilities import SQLDatabase\n",
    "from langchain_experimental.sql import SQLDatabaseChain\n",
    "from langchain.llms import WatsonxLLM\n",
    "from ibm_watson_machine_learning.foundation_models.utils.enums import ModelTypes\n",
    "from ibm_watson_machine_learning.metanames import GenTextParamsMetaNames as GenParams\n",
    "from ibm_watson_machine_learning.foundation_models.utils.enums import DecodingMethods\n"
   ]
  },
  {
   "cell_type": "code",
   "execution_count": null,
   "metadata": {},
   "outputs": [],
   "source": [
    "# 데이터베이스 파일 삭제\n",
    "!rm -f history.db"
   ]
  },
  {
   "cell_type": "markdown",
   "metadata": {},
   "source": [
    "### Watson Machine Learning 연결 정보 확인\n",
    "\n",
    "Cloud Pak for Data에서 제공하는 Watson Machine Learning 서비스에 접근하기 위한 인증 정보를 입력한다.\n",
    "여기에는 `url`, `username` 그리고 `api_key`가 포함된다."
   ]
  },
  {
   "cell_type": "code",
   "execution_count": null,
   "metadata": {},
   "outputs": [],
   "source": [
    "username = 'jihunkim'\n",
    "api_key = 'Your API Key'\n",
    "url = 'https://cpd-watsonx.apps.elskr.zanity.net'\n",
    "ver = '4.8'\n",
    "\n",
    "wml_credentials = {\n",
    "    \"username\": username,\n",
    "    \"apikey\": api_key,\n",
    "    \"url\": url,\n",
    "    \"instance_id\": 'openshift',\n",
    "    \"version\": ver\n",
    "}"
   ]
  },
  {
   "cell_type": "markdown",
   "metadata": {},
   "source": [
    "### project id 확인\n",
    "Foundation model에 접근하기 위한 Cloud Pak for Data의 project id를 확인 한다.\n",
    "이 노트북이 Foundation model을 제공하는 Cloud Pak for Data이 Project 내에서 실행되는 경우 자동으로 환경 변수에서 가져올 수 있으나 Cloud Pak for Data 외부 환경에서 실행되는 경우는 연관된 project id를 확인한 후에 입력해 줘야 한다."
   ]
  },
  {
   "cell_type": "code",
   "execution_count": null,
   "metadata": {},
   "outputs": [],
   "source": [
    "try:\n",
    "    project_id = os.environ[\"PROJECT_ID\"]\n",
    "    run_in_cp4d = True\n",
    "except KeyError:\n",
    "    project_id = \"Your PROJECT_ID\"\n",
    "    run_in_cp4d = False"
   ]
  },
  {
   "cell_type": "code",
   "execution_count": null,
   "metadata": {},
   "outputs": [],
   "source": [
    "if run_in_cp4d:\n",
    "\n",
    "    from ibm_watson_studio_lib import access_project_or_space\n",
    "    wslib = access_project_or_space()\n",
    "    wslib.download_file('spending-insight.csv')\n",
    "    filename = 'spending-insight.csv'\n",
    "else:\n",
    "    filename = os.path.join(os.getcwd(), 'data', 'spending-insight.csv')"
   ]
  },
  {
   "cell_type": "markdown",
   "metadata": {},
   "source": [
    "<a id=\"database_setup\"></a>\n",
    "## 데이타베이스 설정\n",
    "\n",
    "신용카드 사용 내역을 저장할 데이타베이스를 생성한다. Lanchain은 SQLAlchemy 패키지 덕분에 MS SQL, MySQL, MariaDB, PostgreSQL 그리고 Oracle SQL등을 포함하는 여러 정류의 데이타 베이스에 연결할 수 있다.\n",
    "여기서는 SQLite를 사용한다.\n"
   ]
  },
  {
   "cell_type": "code",
   "execution_count": null,
   "metadata": {},
   "outputs": [],
   "source": [
    "# 데이터베이스 생성\n",
    "db = SQLDatabase.from_uri(\"sqlite:///history.db\")\n",
    "\n",
    "# SQLite 데이터베이스에 연결하는 함수\n",
    "def get_db_connection():\n",
    "    conn = sqlite3.connect('history.db', check_same_thread=False)\n",
    "    conn.row_factory = sqlite3.Row\n",
    "    return conn\n",
    "\n",
    "def init_db():\n",
    "    conn = get_db_connection()\n",
    "    # 테이블 생성\n",
    "    conn.execute(\"\"\"\n",
    "        CREATE TABLE IF NOT EXISTS transactions (\n",
    "            id INTEGER PRIMARY KEY AUTOINCREMENT,\n",
    "            \"date\" DATE,\n",
    "            \"category\" TEXT,\n",
    "            \"product\" TEXT,\n",
    "            \"amount\" INTEGER\n",
    "        );\n",
    "    \"\"\")\n",
    "    \n",
    "    # 테이블이 비어 있는 경우에 샘플 데이터를 입력한다.\n",
    "    if conn.execute('SELECT COUNT(*) FROM transactions').fetchone()[0] == 0:\n",
    "        with open(filename, 'r') as file:\n",
    "            reader = csv.reader(file)\n",
    "            next(reader)  # 헤더는 생략\n",
    "            sample_data = list(reader)\n",
    "            conn.executemany('INSERT INTO transactions (\"date\", \"category\", \"product\", \"amount\") VALUES (?, ?, ?, ?)', sample_data)\n",
    "        \n",
    "    # Commit the changes and close the connection\n",
    "    conn.commit()\n",
    "    conn.close()\n",
    "init_db()"
   ]
  },
  {
   "cell_type": "markdown",
   "metadata": {},
   "source": [
    "### 입력된 데이터 확인\n",
    "\n",
    "모든 데이터가 잘 입력되어 있는 지 확인한다."
   ]
  },
  {
   "cell_type": "code",
   "execution_count": null,
   "metadata": {},
   "outputs": [],
   "source": [
    "conn = get_db_connection()\n",
    "result = conn.execute('SELECT * from transactions')\n",
    "for row in result.fetchall():\n",
    "    print(row[:])"
   ]
  },
  {
   "cell_type": "markdown",
   "metadata": {},
   "source": [
    "<a id=\"prompt_template\"></a>\n",
    "## 프롬프트 템플릿 작성\n",
    "\n",
    "LLM에 질의하기 위한 프롬프트 템플릿을 작성한다."
   ]
  },
  {
   "cell_type": "markdown",
   "metadata": {},
   "source": [
    "### 테이블 칼럼 추출\n",
    "\n",
    "LLM이 테이블에 어떤 데이터가 있는지 이해하도록 하기 위해 테이블의 칼럼을 추출한다."
   ]
  },
  {
   "cell_type": "code",
   "execution_count": null,
   "metadata": {},
   "outputs": [],
   "source": [
    "def get_table_columns(table_name):\n",
    "    conn = get_db_connection()\n",
    "    cursor = conn.cursor()\n",
    "    cursor.execute(\"PRAGMA table_info({})\".format(table_name))\n",
    "    columns = cursor.fetchall()\n",
    "    print(f\"columns:{columns}\")\n",
    "    return [column[1] for column in columns]\n",
    "\n",
    "table_name = 'transactions'\n",
    "columns = get_table_columns(table_name)\n",
    "display(columns)"
   ]
  },
  {
   "cell_type": "markdown",
   "metadata": {},
   "source": [
    "<a id=\"models\"></a>\n",
    "## watsonx의 Foundation model 접근 설정\n",
    "\n",
    "IBM watsonx의 foundation model들은 <a href=\"https://python.langchain.com/v0.2/docs/integrations/providers/ibm/#watsonxllm\" target=\"_blank\" rel=\"noopener no referrer\">langchain에 의해 지원되는 LLM들의 목록</a>에 속한다.\n",
    "여기서는 한글이 잘 동작한다고 평가되는 <a href=\"https://huggingface.co/mncai/llama2-13b-dpo-v7\">mncai/llama2-13b-dpo-v7</a>를 사용한다.\n",
    "\n",
    "WatsonxLLM class는 watsonx foundation model과 langchain 간의 interface를 제공해주는 class이다."
   ]
  },
  {
   "cell_type": "code",
   "execution_count": null,
   "metadata": {},
   "outputs": [],
   "source": [
    "model_id = 'mncai/llama2-13b-dpo-v7'\n",
    "parameters = {\n",
    "    GenParams.DECODING_METHOD: DecodingMethods.GREEDY.value,\n",
    "    GenParams.MIN_NEW_TOKENS: 1,\n",
    "    GenParams.MAX_NEW_TOKENS: 1024,\n",
    "    GenParams.STOP_SEQUENCES: [\"<|endoftext|>\"]\n",
    "}\n",
    "watsonx_llama2_korean = WatsonxLLM(\n",
    "    model_id=model_id,\n",
    "    url=wml_credentials.get(\"url\"),\n",
    "    username=wml_credentials.get(\"username\"),\n",
    "    apikey=wml_credentials.get(\"apikey\"),\n",
    "    instance_id=wml_credentials.get(\"instance_id\"),\n",
    "    project_id=project_id,\n",
    "    params=parameters\n",
    ")"
   ]
  },
  {
   "cell_type": "code",
   "execution_count": null,
   "metadata": {},
   "outputs": [],
   "source": [
    "# 데이터베이스 체인 생성\n",
    "db_chain = SQLDatabaseChain.from_llm(watsonx_llama2_korean, db, verbose=True)"
   ]
  },
  {
   "cell_type": "markdown",
   "metadata": {},
   "source": [
    "### 프롬프트 템플릿 생성\n",
    "\n",
    "LLaMA용 템플릿에서는 시스템이 사용하는 메세지와 사용자의 메세지를 구분하기 위해 다음과 같은 tag를 사용한다.\n",
    "\n",
    "    <<SYS>>/<</SYS>> : 시스템 (AI’s) 메세지.\n",
    "    [INST]/[/INST] : 사용자 메세지."
   ]
  },
  {
   "cell_type": "code",
   "execution_count": null,
   "metadata": {},
   "outputs": [],
   "source": [
    "QUERY = \"\"\"\n",
    "    <<SYS>> \n",
    "    당신은 테스트를 SQL로 변환할 수 있는 매우 강력한 모델입니다. 당신의 역할은 데이터베이스에 대한 질문에 답하는 것입니다. 당신은 개인의 소비 성향을 나타내는 신용카드 사용내역을 저장하고 있는 테이블에 대해 질문을 받을 것입니다. \n",
    "    SQL쿼리 생성에 사용할 테이블 이름은 {table_name} 이며 칼럼들은 {columns} 입니다.\n",
    "    당신은 답을 찾기 위해 SQLite 쿼리를 사용해야 합니다. 당신이 만들어서 사용할 쿼리문 내에 SQLite 문법에 어긋나는 것들, 예를 들면 DATE_TRUNC나 역따옴표(`) 또는 \"```sql\" 등을 포함해서는 안됩니다. 그런 다음 {table_name} 에 대해 쿼리를 실행하고 답을 생성하세요.\n",
    "    가이드라인:\n",
    "    - 위에 제시된 칼럼 이름을 정확히 사용한다.\n",
    "    - 현재 time zone으로 결과를 필터링 한다: {time} 쿼리가 특정 날짜/시간동안의 기간을 명시하는 경우에만 사용. 날짜 필터링을 위해 \">=\" or \"<=\" operators를 사용하거나 날짜를 월별로 묶기 위해 \"GROUP BY strftime('%m', date)\"을 사용한다. 데이터베이스의 날짜 형식은 'YYYY-MM-DD' 이다.\n",
    "    - 쿼리 결과가 없는 경우에는 답변을 더블체크 하기 위해 SQLite 쿼리를 한 번 더 실행한다.  \n",
    "    - 사용자 질문에서 '식료품', '식사', '일반생활비' 같은 특정 카테고리가 언급되는 경우 결과를 필터하기 위해 해당 카테고리에 \"WHERE\" 조건을 사용한다.\n",
    "    - 특정 카테고리가 요청되지 않으면, 어떤 카테고리도 필터링 해서는 안된다.\n",
    "    - 금액과 관련하여 '최대값'이나 '최소값'이 요청된 경우에는 SQL 함수 MAX() 나 MIN()을 사용하며 평균에는 AVG()를, 총 합계를 질문한 경우 SUM()을 사용한다.\n",
    "    \n",
    "    답변에는 생성한 SQL쿼리와 쿼리를 실행한 결과 그리고 사용자 질문에 대한 최종 답변을 포함합니다.\n",
    "    <</SYS>>\n",
    "    \n",
    "    [INST] \n",
    "    사용자 질문 : {inquiry}\n",
    "    답변: \n",
    "    [/INST]\n",
    "    \"\"\""
   ]
  },
  {
   "cell_type": "markdown",
   "metadata": {},
   "source": [
    "<a id=\"execute_query\"></a>\n",
    "## 사용자 질의 및 응답\n",
    "\n",
    "사용자 질문을 입력하면 그에 맞는 쿼리를 생성하고 결과를 받은 다음에 최종 답변을 생성한다."
   ]
  },
  {
   "cell_type": "code",
   "execution_count": null,
   "metadata": {},
   "outputs": [],
   "source": [
    "\n",
    "inquiry = \"2023년에 가장 자주 사용된 카테고리는 무엇입니까?\"\n",
    "# inquiry = \"2023년 2사분기에 사용한 식료품에 사용한 금액은 모두 얼마입니까?\"\n",
    "# inquiry = \"2023년 4사분기에 식사에 사용된 평균 금액은 얼마입니까?\"\n",
    "\n",
    "\n",
    "prompt = QUERY.format(table_name=table_name, columns=columns, time=datetime.now(pytz.timezone('Asia/Seoul')), inquiry=inquiry)\n",
    "response = db_chain.run(prompt)\n"
   ]
  },
  {
   "cell_type": "code",
   "execution_count": null,
   "metadata": {},
   "outputs": [],
   "source": [
    "print(response)"
   ]
  }
 ],
 "metadata": {
  "kernelspec": {
   "display_name": "ibm-edu",
   "language": "python",
   "name": "python3"
  },
  "language_info": {
   "codemirror_mode": {
    "name": "ipython",
    "version": 3
   },
   "file_extension": ".py",
   "mimetype": "text/x-python",
   "name": "python",
   "nbconvert_exporter": "python",
   "pygments_lexer": "ipython3",
   "version": "3.10.12"
  }
 },
 "nbformat": 4,
 "nbformat_minor": 2
}
